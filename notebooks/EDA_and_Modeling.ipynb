{
 "cells": [
  {
   "cell_type": "code",
   "execution_count": null,
   "id": "003aef81",
   "metadata": {
    "vscode": {
     "languageId": "plaintext"
    }
   },
   "outputs": [],
   "source": [
    "import pandas as pd\n",
    "import seaborn as sns\n",
    "import matplotlib.pyplot as plt\n",
    "\n",
    "# Load data\n",
    "df = pd.read_csv('../data/credit_data.csv')\n",
    "print(df.head())\n",
    "print(df.info())\n",
    "\n",
    "# Check target distribution\n",
    "sns.countplot(data=df, x='default')\n",
    "plt.title('Class Distribution')\n",
    "plt.show()\n"
   ]
  }
 ],
 "metadata": {
  "language_info": {
   "name": "python"
  }
 },
 "nbformat": 4,
 "nbformat_minor": 5
}
